{
 "cells": [
  {
   "cell_type": "markdown",
   "metadata": {},
   "source": [
    "# Emotion Detection of Human Face and Replacing it with relevant emojis"
   ]
  },
  {
   "cell_type": "markdown",
   "metadata": {},
   "source": [
    "## Importing Libraries."
   ]
  },
  {
   "cell_type": "code",
   "execution_count": null,
   "metadata": {},
   "outputs": [],
   "source": [
    "from time import sleep\n",
    "\n",
    "import numpy as np\n",
    "\n",
    "import cv2\n",
    "\n",
    "from keras.models import load_model\n",
    "from keras.preprocessing.image import img_to_array\n",
    "from keras.preprocessing import image"
   ]
  },
  {
   "cell_type": "markdown",
   "metadata": {},
   "source": [
    "## Define  path for emoji directory"
   ]
  },
  {
   "cell_type": "code",
   "execution_count": null,
   "metadata": {},
   "outputs": [],
   "source": [
    "#CHANGE PATH FOR YOUR COMPUTER , THIS PATH IS FOR EMOJI FOLDER\n",
    "emoji_folder = r'C:\\Users\\Pallavi Shete\\Documents\\Emotion_Detector-main\\Emotion_Detector\\emoji'"
   ]
  },
  {
   "cell_type": "markdown",
   "metadata": {},
   "source": [
    "## Loading model and configuration files"
   ]
  },
  {
   "cell_type": "code",
   "execution_count": null,
   "metadata": {},
   "outputs": [],
   "source": [
    "#LOADING HAAR CASCADE TRAINED MODEL\n",
    "\n",
    "#CHANGE PATH FOR YOUR COMPUTER\n",
    "xml_path = r'C:\\Users\\Pallavi Shete\\Documents\\Emotion_Detector-main\\Emotion_Detector\\haarcascade.xml'\n",
    "#CHANGE PATH FOR YOUR COMPUTER\n",
    "model_path = r'C:\\Users\\Pallavi Shete\\Documents\\Emotion_Detector-main\\Emotion_Detector\\Emo_little-h5.h5'\n",
    "\n",
    "#LOAD CONFIG FILE\n",
    "face_classifier = cv2.CascadeClassifier(xml_path)\n",
    "\n",
    "#LOAD MODEL\n",
    "classifier = load_model(model_path)"
   ]
  },
  {
   "cell_type": "markdown",
   "metadata": {},
   "source": [
    "## Declaring classes for prediction"
   ]
  },
  {
   "cell_type": "code",
   "execution_count": null,
   "metadata": {},
   "outputs": [],
   "source": [
    "#LABELS FOR PREDICTION\n",
    "class_labels = ['Angry', 'Happy', 'Neutral', 'Sad', 'Surprise']"
   ]
  },
  {
   "cell_type": "markdown",
   "metadata": {},
   "source": [
    "### Loading emojis"
   ]
  },
  {
   "cell_type": "code",
   "execution_count": null,
   "metadata": {},
   "outputs": [],
   "source": [
    "#LOADING EMOJI IMAGES FROM EMOJI FOLDER\n",
    "angry_filter = cv2.imread(emoji_folder + '/angry.png', -1)\n",
    "happy_filter = cv2.imread(emoji_folder + '/happy.png', -1)\n",
    "neutral_filter = cv2.imread(emoji_folder + '/neutral.png', -1)\n",
    "sad_filter = cv2.imread(emoji_folder + '/sad.png', -1)\n",
    "surprised_filter = cv2.imread(emoji_folder + '/surprised.png', -1)"
   ]
  },
  {
   "cell_type": "markdown",
   "metadata": {},
   "source": [
    "Defining video capture"
   ]
  },
  {
   "cell_type": "code",
   "execution_count": null,
   "metadata": {},
   "outputs": [],
   "source": [
    "#INITIATING VIDEOCAMERA\n",
    "cap = cv2.VideoCapture(0)"
   ]
  },
  {
   "cell_type": "markdown",
   "metadata": {},
   "source": [
    "## Initiate Inference"
   ]
  },
  {
   "cell_type": "code",
   "execution_count": null,
   "metadata": {},
   "outputs": [],
   "source": [
    "#### WORKING CODE for every task\n",
    "# NOT ADDED FOR NEUTRAL SO THAT CLEAR DIFFERENCE BETWEEN EMOTIONS CAN BE OBSERVED\n",
    "while True:\n",
    "    # Grab a single frame of video\n",
    "    ret, frame = cap.read()\n",
    "    gray = cv2.cvtColor(frame, cv2.COLOR_BGR2GRAY)\n",
    "    faces = face_classifier.detectMultiScale(gray, 1.3, 5)\n",
    "    img_copy = np.copy(frame)\n",
    "    \n",
    "    for (x, y, w, h) in faces:\n",
    "        roi_gray = gray[y:y + h, x:x + w]\n",
    "        roi_gray = cv2.resize(roi_gray, (48, 48), interpolation=cv2.INTER_AREA)\n",
    "        \n",
    "        \n",
    "        if np.sum([roi_gray]) != 0:\n",
    "            roi = roi_gray.astype('float') / 255.0\n",
    "            roi = img_to_array(roi)\n",
    "            roi = np.expand_dims(roi, axis=0)\n",
    "\n",
    "            # make a prediction on the ROI, then lookup the class\n",
    "\n",
    "            preds = classifier.predict(roi)[0]\n",
    "            label = class_labels[preds.argmax()]\n",
    "            label_position = (x, y)\n",
    "            \n",
    "            img_copy = cv2.cvtColor(img_copy, cv2.COLOR_BGR2BGRA)\n",
    "            \n",
    "            #  FILTER APPLICATION BASED ON PREDICTED LABEL \n",
    "            if label == 'Surprise':\n",
    "                filter_frame = cv2.resize( surprised_filter , (w,h))\n",
    "                sw,sh,sc = filter_frame.shape\n",
    "                for i in range(0,sw):       # Overlay the filter based on the alpha channel\n",
    "                    for j in range(0,sh):\n",
    "                        img_copy[i+y,j+x] = filter_frame[i,j]\n",
    "                        \n",
    "            if label == 'Happy':\n",
    "                filter_frame = cv2.resize( happy_filter , (w,h))\n",
    "                sw,sh,sc = filter_frame.shape\n",
    "                for i in range(0,sw):       # Overlay the filter based on the alpha channel\n",
    "                    for j in range(0,sh):\n",
    "                        img_copy[i+y,j+x] = filter_frame[i,j]\n",
    "                        \n",
    "            if label == 'Angry':\n",
    "                filter_frame = cv2.resize( angry_filter , (w,h))\n",
    "                sw,sh,sc = filter_frame.shape\n",
    "                for i in range(0,sw):       # Overlay the filter based on the alpha channel\n",
    "                    for j in range(0,sh):\n",
    "                        img_copy[i+y,j+x] = filter_frame[i,j]\n",
    "                        \n",
    "            if label == 'Sad':\n",
    "                filter_frame = cv2.resize( sad_filter , (w,h))\n",
    "                sw,sh,sc = filter_frame.shape\n",
    "                for i in range(0,sw):       # Overlay the filter based on the alpha channel\n",
    "                    for j in range(0,sh):\n",
    "                        img_copy[i+y,j+x] = filter_frame[i,j]\n",
    "            \n",
    "            #Displaying label name on the face\n",
    "            cv2.putText(img_copy, label, label_position, cv2.FONT_HERSHEY_SIMPLEX, 2, (0, 255, 0), 3)\n",
    "            \n",
    "            #Displaying Region of the face\n",
    "            cv2.rectangle(img_copy, (x, y), (x + w, y + h), (255, 0, 0), 2)\n",
    "            \n",
    "        else:\n",
    "            cv2.putText(frame, 'No Face Found', (20, 60), cv2.FONT_HERSHEY_SIMPLEX, 2, (0, 255, 0), 3)\n",
    "    \n",
    "    #DISPLAYING THE VIDEO\n",
    "    cv2.imshow('Emotion Detector', img_copy)\n",
    "    if cv2.waitKey(1) & 0xFF == ord('q'):\n",
    "        break\n",
    "        \n",
    "cap.release()\n",
    "cv2.destroyAllWindows()"
   ]
  },
  {
   "cell_type": "markdown",
   "metadata": {},
   "source": [
    "# Press q for exiting the Inference window.\n",
    "\n",
    "# Restart Kernal before running again, else you'll face erros !!\n",
    "\n",
    "# For demo view readme.md\n",
    "(due to webcam allotment issues at OS level"
   ]
  },
  {
   "cell_type": "code",
   "execution_count": null,
   "metadata": {},
   "outputs": [],
   "source": []
  }
 ],
 "metadata": {
  "kernelspec": {
   "name": "python388jvsc74a57bd0b3ba2566441a7c06988d0923437866b63cedc61552a5af99d1f4fb67d367b25f",
   "display_name": "Python 3.8.8 64-bit ('base': conda)"
  },
  "language_info": {
   "codemirror_mode": {
    "name": "ipython",
    "version": 3
   },
   "file_extension": ".py",
   "mimetype": "text/x-python",
   "name": "python",
   "nbconvert_exporter": "python",
   "pygments_lexer": "ipython3",
   "version": "3.8.8"
  }
 },
 "nbformat": 4,
 "nbformat_minor": 4
}